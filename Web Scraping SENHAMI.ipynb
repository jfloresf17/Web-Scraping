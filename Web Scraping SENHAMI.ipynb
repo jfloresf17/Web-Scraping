{
 "cells": [
  {
   "cell_type": "markdown",
   "metadata": {},
   "source": [
    "# Web Scraping from the SENHAMI automatic weather stations database"
   ]
  },
  {
   "cell_type": "markdown",
   "metadata": {},
   "source": [
    "In this notebook, we will get a weather variables of SENHAMI's automatic weather stations from filtered dates and using a bit of web scraping.\n",
    "So let´s get started "
   ]
  },
  {
   "cell_type": "markdown",
   "metadata": {},
   "source": [
    "## Importing libraries"
   ]
  },
  {
   "cell_type": "code",
   "execution_count": 1,
   "metadata": {},
   "outputs": [],
   "source": [
    "from bs4 import BeautifulSoup\n",
    "import requests\n",
    "import pandas as pd"
   ]
  },
  {
   "cell_type": "markdown",
   "metadata": {},
   "source": [
    "## Defining our available dates"
   ]
  },
  {
   "cell_type": "markdown",
   "metadata": {},
   "source": [
    "First of all, the available date are into the [website of SENHAMI's stations](https://senamhi.gob.pe/?&p=estaciones), each station have own available dates. After to review the available date of your station of interest (the available dates appear in the drop-down \"Ir\" button). You can input the first and last year/month in numeric data "
   ]
  },
  {
   "cell_type": "code",
   "execution_count": 2,
   "metadata": {},
   "outputs": [
    {
     "name": "stdout",
     "output_type": "stream",
     "text": [
      "Digite el año inicial disponible en la estación : 2016\n",
      "Digite el mes inicial disponible en la estación, en números : 1\n",
      "Digite el año final disponible en la estación : 2020\n",
      "Digite el mes final disponible en la estación, en números : 11\n"
     ]
    }
   ],
   "source": [
    "# First year available in the station\n",
    "first_year = input(\"Digite el año inicial disponible en la estación : \")\n",
    "\n",
    "# First month available in the station\n",
    "first_month =input(\"Digite el mes inicial disponible en la estación, en números : \")\n",
    "\n",
    "# Last year available in the station\n",
    "last_year = input(\"Digite el año final disponible en la estación : \")\n",
    "\n",
    "# Last month available in the station\n",
    "last_month =  input(\"Digite el mes final disponible en la estación, en números : \")\n"
   ]
  },
  {
   "cell_type": "code",
   "execution_count": 3,
   "metadata": {},
   "outputs": [],
   "source": [
    "# Generating right date strings for our web scraping\n",
    "def filtro(first_year,last_year,first_month,last_month):\n",
    "    filtro = []\n",
    "    for year in range(int(first_year), int(last_year) + 1):\n",
    "        if year == int(first_year):\n",
    "            for month in range(int(first_month), 13):\n",
    "                if month < 10:\n",
    "                    filtro.append(str(first_year) + '0' + str(month)) \n",
    "                else:\n",
    "                    filtro.append(str(first_year) + str(month))\n",
    "        elif year == int(last_year):\n",
    "            for month in range(1, int(last_month) + 1):\n",
    "                if month < 10:\n",
    "                    filtro.append(str(last_year) + '0' + str(month)) \n",
    "                else:\n",
    "                    filtro.append(str(last_year) + str(month))  \n",
    "        else:               \n",
    "            for month in range(1,13):\n",
    "                if month < 10:\n",
    "                    filtro.append(str(year) + '0' + str(month))\n",
    "                else:            \n",
    "                    filtro.append(str(year) + str(month))  \n",
    "    return filtro                "
   ]
  },
  {
   "cell_type": "markdown",
   "metadata": {},
   "source": [
    "###  Parameters to URL"
   ]
  },
  {
   "cell_type": "markdown",
   "metadata": {},
   "source": [
    "As well as the available dates, other parameters like code, type of stations are really relevant. The method to obtain is the same to the available dates, you only  access to the website."
   ]
  },
  {
   "cell_type": "code",
   "execution_count": 5,
   "metadata": {},
   "outputs": [
    {
     "name": "stdout",
     "output_type": "stream",
     "text": [
      "Inserte código de la estación automática : 4726631C\n"
     ]
    }
   ],
   "source": [
    "# Station code \n",
    "CODIGO = str(input(\"Inserte código de la estación automática : \"))\n",
    "#Specifying the filtered date\n",
    "filtro = filtro(first_year,last_year,first_month,last_month)\n",
    "# Type of station, in this case automatic\n",
    "estado = 'AUTOMATICA'"
   ]
  },
  {
   "cell_type": "markdown",
   "metadata": {},
   "source": [
    "## Web Scraping "
   ]
  },
  {
   "cell_type": "markdown",
   "metadata": {},
   "source": [
    "At this point, we will use a **for** to get a list of all tables through the URL from the SENHAMI's website using filtered dates and the respective parameters. \n",
    "\n",
    "Next,  we convert HTML to text format and each row list of each table have splited by comma for each element of row belong a column. For last, we append it  to list called \"rows\" with wich we've created a dataframe and dropped the duplicate headers of each table."
   ]
  },
  {
   "cell_type": "code",
   "execution_count": null,
   "metadata": {},
   "outputs": [],
   "source": [
    "# List of stored HTML tables\n",
    "table = []\n",
    "\n",
    "# Table format in a dictionary \n",
    "dicc={'width':\"100%\", 'border':\"1\", 'class':\"body01\", 'bordercolor':\"#999999\", \n",
    "      'cellpadding':\"0\", 'cellspacing':\"1\", 'align':\"center\", 'id':\"dataTable\"}\n",
    "\n",
    "# We will make a for to get a list of all available tables\n",
    "for fecha in filtro:\n",
    "    url = 'http://www.senamhi.gob.pe/mapas/mapa-estaciones-2/_dato_esta_tipo02.php?estaciones={}&CBOFiltro={}&t_e=M&estado={}&cod_old=&cate_esta=EMA'.format(\n",
    "          CODIGO,\n",
    "          fecha,\n",
    "          estado)\n",
    "    response = requests.get(url)\n",
    "    soup = BeautifulSoup(response.text, 'html.parser')\n",
    "    table.append(soup.find('table',dicc)) "
   ]
  },
  {
   "cell_type": "code",
   "execution_count": 8,
   "metadata": {},
   "outputs": [],
   "source": [
    "table = []\n",
    "\n",
    "dicc={'width':\"100%\", 'border':\"1\", 'class':\"body01\", 'bordercolor':\"#999999\", \n",
    "      'cellpadding':\"0\", 'cellspacing':\"1\", 'align':\"center\", 'id':\"dataTable\"}\n",
    "\n",
    "url = 'http://www.senamhi.gob.pe/mapas/mapa-estaciones-2/_dato_esta_tipo02.php?estaciones=4726631C&CBOFiltro=201601&t_e=M&estado=AUTOMATICA&cod_old=&cate_esta=EMA'\n",
    "response = requests.get(url)\n",
    "soup = BeautifulSoup(response.text, 'html.parser')\n",
    "table.append(soup.find('table',dicc)) "
   ]
  },
  {
   "cell_type": "code",
   "execution_count": 20,
   "metadata": {},
   "outputs": [],
   "source": [
    "# Obtain each row of each table and append it in a list \n",
    "rows = []\n",
    "\n",
    "# We convert HTML to text format and each row list of each table \n",
    "# have splited by comma for each element of row belong a column.\n",
    "for t in table:\n",
    "    for i in t.find_all('tr',{'aling': \"center\"}):\n",
    "        rows.append(i.text.replace(\" \",\"\").replace(\"\\n\", \" \").strip().split()) \n",
    "        \n",
    "# Creando dataframe      \n",
    "senhami = pd.DataFrame(rows[1:], columns = rows[0])\n",
    "\n",
    "# Dropping headers\n",
    "mask = senhami.iloc[:, 0] == senhami.columns.to_list()[0]\n",
    "d1 = senhami[~mask]"
   ]
  },
  {
   "cell_type": "code",
   "execution_count": 25,
   "metadata": {},
   "outputs": [
    {
     "data": {
      "text/html": [
       "<div>\n",
       "<style scoped>\n",
       "    .dataframe tbody tr th:only-of-type {\n",
       "        vertical-align: middle;\n",
       "    }\n",
       "\n",
       "    .dataframe tbody tr th {\n",
       "        vertical-align: top;\n",
       "    }\n",
       "\n",
       "    .dataframe thead th {\n",
       "        text-align: right;\n",
       "    }\n",
       "</style>\n",
       "<table border=\"1\" class=\"dataframe\">\n",
       "  <thead>\n",
       "    <tr style=\"text-align: right;\">\n",
       "      <th></th>\n",
       "      <th>AÑO/MES/DÍA</th>\n",
       "      <th>HORA</th>\n",
       "      <th>TEMPERATURA(°C)</th>\n",
       "      <th>PRECIPITACIÓN(mm/hora)</th>\n",
       "      <th>HUMEDAD(%)</th>\n",
       "      <th>DIRECCIONDELVIENTO(°)</th>\n",
       "      <th>VELOCIDADDELVIENTO(m/s)</th>\n",
       "    </tr>\n",
       "  </thead>\n",
       "  <tbody>\n",
       "    <tr>\n",
       "      <th>0</th>\n",
       "      <td>2016/01/01</td>\n",
       "      <td>00:00</td>\n",
       "      <td>13.9</td>\n",
       "      <td>0.0</td>\n",
       "      <td>S/D</td>\n",
       "      <td>40</td>\n",
       "      <td>1.0</td>\n",
       "    </tr>\n",
       "    <tr>\n",
       "      <th>1</th>\n",
       "      <td>2016/01/01</td>\n",
       "      <td>01:00</td>\n",
       "      <td>13.8</td>\n",
       "      <td>0.0</td>\n",
       "      <td>S/D</td>\n",
       "      <td>5</td>\n",
       "      <td>0.9</td>\n",
       "    </tr>\n",
       "    <tr>\n",
       "      <th>2</th>\n",
       "      <td>2016/01/01</td>\n",
       "      <td>02:00</td>\n",
       "      <td>14.0</td>\n",
       "      <td>0.0</td>\n",
       "      <td>S/D</td>\n",
       "      <td>325</td>\n",
       "      <td>0.8</td>\n",
       "    </tr>\n",
       "    <tr>\n",
       "      <th>3</th>\n",
       "      <td>2016/01/01</td>\n",
       "      <td>03:00</td>\n",
       "      <td>13.7</td>\n",
       "      <td>0.2</td>\n",
       "      <td>S/D</td>\n",
       "      <td>324</td>\n",
       "      <td>1.3</td>\n",
       "    </tr>\n",
       "    <tr>\n",
       "      <th>4</th>\n",
       "      <td>2016/01/01</td>\n",
       "      <td>04:00</td>\n",
       "      <td>13.2</td>\n",
       "      <td>0.0</td>\n",
       "      <td>S/D</td>\n",
       "      <td>347</td>\n",
       "      <td>1.9</td>\n",
       "    </tr>\n",
       "    <tr>\n",
       "      <th>...</th>\n",
       "      <td>...</td>\n",
       "      <td>...</td>\n",
       "      <td>...</td>\n",
       "      <td>...</td>\n",
       "      <td>...</td>\n",
       "      <td>...</td>\n",
       "      <td>...</td>\n",
       "    </tr>\n",
       "    <tr>\n",
       "      <th>725</th>\n",
       "      <td>2016/01/31</td>\n",
       "      <td>19:00</td>\n",
       "      <td>15.7</td>\n",
       "      <td>0.0</td>\n",
       "      <td>S/D</td>\n",
       "      <td>4</td>\n",
       "      <td>1.7</td>\n",
       "    </tr>\n",
       "    <tr>\n",
       "      <th>726</th>\n",
       "      <td>2016/01/31</td>\n",
       "      <td>20:00</td>\n",
       "      <td>14.9</td>\n",
       "      <td>0.0</td>\n",
       "      <td>S/D</td>\n",
       "      <td>347</td>\n",
       "      <td>1.8</td>\n",
       "    </tr>\n",
       "    <tr>\n",
       "      <th>727</th>\n",
       "      <td>2016/01/31</td>\n",
       "      <td>21:00</td>\n",
       "      <td>14.7</td>\n",
       "      <td>0.0</td>\n",
       "      <td>S/D</td>\n",
       "      <td>22</td>\n",
       "      <td>0.7</td>\n",
       "    </tr>\n",
       "    <tr>\n",
       "      <th>728</th>\n",
       "      <td>2016/01/31</td>\n",
       "      <td>22:00</td>\n",
       "      <td>14.3</td>\n",
       "      <td>1.0</td>\n",
       "      <td>S/D</td>\n",
       "      <td>357</td>\n",
       "      <td>0.6</td>\n",
       "    </tr>\n",
       "    <tr>\n",
       "      <th>729</th>\n",
       "      <td>2016/01/31</td>\n",
       "      <td>23:00</td>\n",
       "      <td>14.0</td>\n",
       "      <td>2.5</td>\n",
       "      <td>S/D</td>\n",
       "      <td>52</td>\n",
       "      <td>0.7</td>\n",
       "    </tr>\n",
       "  </tbody>\n",
       "</table>\n",
       "<p>730 rows × 7 columns</p>\n",
       "</div>"
      ],
      "text/plain": [
       "    AÑO/MES/DÍA   HORA  TEMPERATURA(°C) PRECIPITACIÓN(mm/hora) HUMEDAD(%)  \\\n",
       "0    2016/01/01  00:00             13.9                    0.0        S/D   \n",
       "1    2016/01/01  01:00             13.8                    0.0        S/D   \n",
       "2    2016/01/01  02:00             14.0                    0.0        S/D   \n",
       "3    2016/01/01  03:00             13.7                    0.2        S/D   \n",
       "4    2016/01/01  04:00             13.2                    0.0        S/D   \n",
       "..          ...    ...              ...                    ...        ...   \n",
       "725  2016/01/31  19:00             15.7                    0.0        S/D   \n",
       "726  2016/01/31  20:00             14.9                    0.0        S/D   \n",
       "727  2016/01/31  21:00             14.7                    0.0        S/D   \n",
       "728  2016/01/31  22:00             14.3                    1.0        S/D   \n",
       "729  2016/01/31  23:00             14.0                    2.5        S/D   \n",
       "\n",
       "    DIRECCIONDELVIENTO(°) VELOCIDADDELVIENTO(m/s)  \n",
       "0                      40                     1.0  \n",
       "1                       5                     0.9  \n",
       "2                     325                     0.8  \n",
       "3                     324                     1.3  \n",
       "4                     347                     1.9  \n",
       "..                    ...                     ...  \n",
       "725                     4                     1.7  \n",
       "726                   347                     1.8  \n",
       "727                    22                     0.7  \n",
       "728                   357                     0.6  \n",
       "729                    52                     0.7  \n",
       "\n",
       "[730 rows x 7 columns]"
      ]
     },
     "execution_count": 25,
     "metadata": {},
     "output_type": "execute_result"
    }
   ],
   "source": [
    "d1"
   ]
  },
  {
   "cell_type": "code",
   "execution_count": null,
   "metadata": {},
   "outputs": [],
   "source": [
    "#Saving to .csv file\n",
    "d1.to_csv('celendin.csv', index = False)"
   ]
  }
 ],
 "metadata": {
  "kernelspec": {
   "display_name": "Python 3",
   "language": "python",
   "name": "python3"
  },
  "language_info": {
   "codemirror_mode": {
    "name": "ipython",
    "version": 3
   },
   "file_extension": ".py",
   "mimetype": "text/x-python",
   "name": "python",
   "nbconvert_exporter": "python",
   "pygments_lexer": "ipython3",
   "version": "3.8.3"
  }
 },
 "nbformat": 4,
 "nbformat_minor": 4
}
