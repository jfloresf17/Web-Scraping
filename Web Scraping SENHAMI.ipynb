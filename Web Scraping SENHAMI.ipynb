{
 "cells": [
  {
   "cell_type": "markdown",
   "metadata": {},
   "source": [
    "# Web Scraping from the SENHAMI automatic weather stations database"
   ]
  },
  {
   "cell_type": "markdown",
   "metadata": {},
   "source": [
    "In this notebook, we will get a weather variables of SENHAMI's automatic weather stations from filtered dates and using a bit of web scraping.\n",
    "So let´s get started "
   ]
  },
  {
   "cell_type": "markdown",
   "metadata": {},
   "source": [
    "## Importing libraries"
   ]
  },
  {
   "cell_type": "code",
   "execution_count": 1,
   "metadata": {},
   "outputs": [],
   "source": [
    "from bs4 import BeautifulSoup\n",
    "import requests\n",
    "import pandas as pd"
   ]
  },
  {
   "cell_type": "markdown",
   "metadata": {},
   "source": [
    "## Defining our available dates"
   ]
  },
  {
   "cell_type": "markdown",
   "metadata": {},
   "source": [
    "First of all, the available date are into the [website of SENHAMI's stations](https://senamhi.gob.pe/?&p=estaciones), each station have own available dates. After to review the available date of your station of interest (the available dates appear in the drop-down \"Ir\" button). You can input the first and last year/month in numeric data "
   ]
  },
  {
   "attachments": {
    "image.png": {
     "image/png": "https://github.com/jfphlorecti/Web-Scraping/blob/master/senhami_website.png"
    }
   },
   "cell_type": "markdown",
   "metadata": {},
   "source": [
    "![image.png](attachment:image.png)"
   ]
  },
  {
   "cell_type": "code",
   "execution_count": 2,
   "metadata": {},
   "outputs": [
    {
     "name": "stdout",
     "output_type": "stream",
     "text": [
      "Digite el año inicial disponible en la estación\n",
      "2015\n",
      "El año inicial disponible en la estación: 2015\n",
      "\n",
      "Digite el año final disponible en la estación\n",
      "2020\n",
      "El año final disponible en la estación: 2020\n",
      "\n",
      "Digite el mes inicial disponible en la estación, en números\n",
      "5\n",
      "El mes inicial disponible en la estación: 5\n",
      "\n",
      "Digite el mes final disponible en la estación, en números\n",
      "5\n",
      "El mes final disponible en la estación: 5\n"
     ]
    }
   ],
   "source": [
    "# First year available in the station\n",
    "print(\"Digite el año inicial disponible en la estación\")\n",
    "first_year = input()\n",
    "print(('El año inicial disponible en la estación: {}').format(first_year))\n",
    "\n",
    "# Last year available in the station\n",
    "print(\"\\nDigite el año final disponible en la estación\")\n",
    "last_year = input()\n",
    "print(('El año final disponible en la estación: {}').format(last_year))\n",
    "\n",
    "# First month available in the station\n",
    "print(\"\\nDigite el mes inicial disponible en la estación, en números\")\n",
    "first_month =input()\n",
    "print(('El mes inicial disponible en la estación: {}').format(first_month))\n",
    "\n",
    "# Last month available in the station\n",
    "print(\"\\nDigite el mes final disponible en la estación, en números\")\n",
    "last_month =  input()\n",
    "print(('El mes final disponible en la estación: {}').format(last_month))"
   ]
  },
  {
   "cell_type": "code",
   "execution_count": 3,
   "metadata": {},
   "outputs": [],
   "source": [
    "# Generating right date strings for our web scraping\n",
    "filtro = []\n",
    "for year in range(int(first_year), int(last_year) + 1):\n",
    "    if year == int(first_year):\n",
    "        for month in range(int(first_month), 13):\n",
    "            if month < 10:\n",
    "                filtro.append(str(first_year) + '0' + str(month)) \n",
    "            else:\n",
    "                filtro.append(str(first_year) + str(month))\n",
    "    elif year == int(last_year):\n",
    "        for month in range(1, int(last_month) + 1):\n",
    "            if month < 10:\n",
    "                filtro.append(str(last_year) + '0' + str(month)) \n",
    "            else:\n",
    "                filtro.append(str(last_year) + str(month))  \n",
    "    else:               \n",
    "        for month in range(1,13):\n",
    "            if month < 10:\n",
    "                filtro.append(str(year) + '0' + str(month))\n",
    "            else:            \n",
    "                filtro.append(str(year) + str(month))        "
   ]
  },
  {
   "cell_type": "markdown",
   "metadata": {},
   "source": [
    "###  Parameters to URL"
   ]
  },
  {
   "cell_type": "markdown",
   "metadata": {},
   "source": [
    "As well as the available dates, other parameters like code, type of stations are really relevant. The method to obtain is the same to the available dates, you only  access to the website."
   ]
  },
  {
   "cell_type": "code",
   "execution_count": 4,
   "metadata": {},
   "outputs": [],
   "source": [
    "# Station code (For it we choose \"Campo de Marte\" station in Jesús María)\n",
    "CODIGO = '112181'\n",
    "#Specifying the filtered date\n",
    "filtro\n",
    "# Type of station, in this case automatic\n",
    "estado = 'AUTOMATICA'\n",
    "# Optional: The alture of this station\n",
    "altura = '124'"
   ]
  },
  {
   "cell_type": "markdown",
   "metadata": {},
   "source": [
    "## Web Scraping "
   ]
  },
  {
   "cell_type": "markdown",
   "metadata": {},
   "source": [
    "At this point, we will use a **for** to get a list of all tables through the URL from the SENHAMI's website using filtered dates and the respective parameters. \n",
    "\n",
    "Next,  we convert HTML to text format and each row list of each table have splited by comma for each element of row belong a column. For last, we append it  to list called \"rows\" with wich we've created a dataframe and dropped the duplicate headers of each table."
   ]
  },
  {
   "cell_type": "code",
   "execution_count": 5,
   "metadata": {},
   "outputs": [],
   "source": [
    "# List of stored HTML tables\n",
    "table = []\n",
    "\n",
    "# Table format in a dictionary \n",
    "dicc={'width':\"100%\", 'border':\"1\", 'class':\"body01\", 'bordercolor':\"#999999\", \n",
    "      'cellpadding':\"0\", 'cellspacing':\"1\", 'align':\"center\", 'id':\"dataTable\"}\n",
    "\n",
    "# We will make a for to get a list of all available tables\n",
    "for fecha in filtro:\n",
    "    url = 'https://senamhi.gob.pe/mapas/mapa-estaciones-2/_dato_esta_tipo02.php?estaciones={}&CBOFiltro={}&t_e=M&estado={}&cod_old=&cate_esta=EMA&alt={}'.format(\n",
    "          CODIGO,\n",
    "          fecha,\n",
    "          estado,\n",
    "          altura)\n",
    "    response = requests.get(url)\n",
    "    soup = BeautifulSoup(response.text, 'html.parser')\n",
    "    table.append(soup.find('table',dicc)) "
   ]
  },
  {
   "cell_type": "code",
   "execution_count": 6,
   "metadata": {},
   "outputs": [
    {
     "data": {
      "text/html": [
       "<div>\n",
       "<style scoped>\n",
       "    .dataframe tbody tr th:only-of-type {\n",
       "        vertical-align: middle;\n",
       "    }\n",
       "\n",
       "    .dataframe tbody tr th {\n",
       "        vertical-align: top;\n",
       "    }\n",
       "\n",
       "    .dataframe thead th {\n",
       "        text-align: right;\n",
       "    }\n",
       "</style>\n",
       "<table border=\"1\" class=\"dataframe\">\n",
       "  <thead>\n",
       "    <tr style=\"text-align: right;\">\n",
       "      <th></th>\n",
       "      <th>AÑO/MES/DÍA</th>\n",
       "      <th>HORA</th>\n",
       "      <th>TEMPERATURA(°C)</th>\n",
       "      <th>PRECIPITACIÓN(mm/hora)</th>\n",
       "      <th>HUMEDAD(%)</th>\n",
       "      <th>DIRECCIONDELVIENTO(°)</th>\n",
       "      <th>VELOCIDADDELVIENTO(m/s)</th>\n",
       "    </tr>\n",
       "  </thead>\n",
       "  <tbody>\n",
       "    <tr>\n",
       "      <th>0</th>\n",
       "      <td>2015/05/01</td>\n",
       "      <td>00:00</td>\n",
       "      <td>22.3</td>\n",
       "      <td>0.0</td>\n",
       "      <td>75</td>\n",
       "      <td>80</td>\n",
       "      <td>0.0</td>\n",
       "    </tr>\n",
       "    <tr>\n",
       "      <th>1</th>\n",
       "      <td>2015/05/01</td>\n",
       "      <td>01:00</td>\n",
       "      <td>22.3</td>\n",
       "      <td>0.0</td>\n",
       "      <td>76</td>\n",
       "      <td>81</td>\n",
       "      <td>0.1</td>\n",
       "    </tr>\n",
       "    <tr>\n",
       "      <th>2</th>\n",
       "      <td>2015/05/01</td>\n",
       "      <td>02:00</td>\n",
       "      <td>23.0</td>\n",
       "      <td>0.0</td>\n",
       "      <td>75</td>\n",
       "      <td>214</td>\n",
       "      <td>1.3</td>\n",
       "    </tr>\n",
       "    <tr>\n",
       "      <th>3</th>\n",
       "      <td>2015/05/01</td>\n",
       "      <td>03:00</td>\n",
       "      <td>22.1</td>\n",
       "      <td>0.0</td>\n",
       "      <td>80</td>\n",
       "      <td>211</td>\n",
       "      <td>1.1</td>\n",
       "    </tr>\n",
       "    <tr>\n",
       "      <th>4</th>\n",
       "      <td>2015/05/01</td>\n",
       "      <td>04:00</td>\n",
       "      <td>21.6</td>\n",
       "      <td>0.0</td>\n",
       "      <td>81</td>\n",
       "      <td>212</td>\n",
       "      <td>2.2</td>\n",
       "    </tr>\n",
       "    <tr>\n",
       "      <th>...</th>\n",
       "      <td>...</td>\n",
       "      <td>...</td>\n",
       "      <td>...</td>\n",
       "      <td>...</td>\n",
       "      <td>...</td>\n",
       "      <td>...</td>\n",
       "      <td>...</td>\n",
       "    </tr>\n",
       "    <tr>\n",
       "      <th>42741</th>\n",
       "      <td>2020/05/25</td>\n",
       "      <td>17:00</td>\n",
       "      <td>17.4</td>\n",
       "      <td>0.0</td>\n",
       "      <td>87</td>\n",
       "      <td>205</td>\n",
       "      <td>2.2</td>\n",
       "    </tr>\n",
       "    <tr>\n",
       "      <th>42742</th>\n",
       "      <td>2020/05/25</td>\n",
       "      <td>18:00</td>\n",
       "      <td>17.1</td>\n",
       "      <td>0.0</td>\n",
       "      <td>90</td>\n",
       "      <td>211</td>\n",
       "      <td>2.2</td>\n",
       "    </tr>\n",
       "    <tr>\n",
       "      <th>42743</th>\n",
       "      <td>2020/05/25</td>\n",
       "      <td>19:00</td>\n",
       "      <td>17.1</td>\n",
       "      <td>0.0</td>\n",
       "      <td>89</td>\n",
       "      <td>191</td>\n",
       "      <td>1.8</td>\n",
       "    </tr>\n",
       "    <tr>\n",
       "      <th>42744</th>\n",
       "      <td>2020/05/25</td>\n",
       "      <td>20:00</td>\n",
       "      <td>17.0</td>\n",
       "      <td>0.0</td>\n",
       "      <td>89</td>\n",
       "      <td>202</td>\n",
       "      <td>2.4</td>\n",
       "    </tr>\n",
       "    <tr>\n",
       "      <th>42745</th>\n",
       "      <td>2020/05/25</td>\n",
       "      <td>21:00</td>\n",
       "      <td>17.1</td>\n",
       "      <td>0.0</td>\n",
       "      <td>88</td>\n",
       "      <td>200</td>\n",
       "      <td>2.0</td>\n",
       "    </tr>\n",
       "  </tbody>\n",
       "</table>\n",
       "<p>42746 rows × 7 columns</p>\n",
       "</div>"
      ],
      "text/plain": [
       "      AÑO/MES/DÍA   HORA TEMPERATURA(°C) PRECIPITACIÓN(mm/hora) HUMEDAD(%)  \\\n",
       "0      2015/05/01  00:00            22.3                    0.0         75   \n",
       "1      2015/05/01  01:00            22.3                    0.0         76   \n",
       "2      2015/05/01  02:00            23.0                    0.0         75   \n",
       "3      2015/05/01  03:00            22.1                    0.0         80   \n",
       "4      2015/05/01  04:00            21.6                    0.0         81   \n",
       "...           ...    ...             ...                    ...        ...   \n",
       "42741  2020/05/25  17:00            17.4                    0.0         87   \n",
       "42742  2020/05/25  18:00            17.1                    0.0         90   \n",
       "42743  2020/05/25  19:00            17.1                    0.0         89   \n",
       "42744  2020/05/25  20:00            17.0                    0.0         89   \n",
       "42745  2020/05/25  21:00            17.1                    0.0         88   \n",
       "\n",
       "      DIRECCIONDELVIENTO(°) VELOCIDADDELVIENTO(m/s)  \n",
       "0                        80                     0.0  \n",
       "1                        81                     0.1  \n",
       "2                       214                     1.3  \n",
       "3                       211                     1.1  \n",
       "4                       212                     2.2  \n",
       "...                     ...                     ...  \n",
       "42741                   205                     2.2  \n",
       "42742                   211                     2.2  \n",
       "42743                   191                     1.8  \n",
       "42744                   202                     2.4  \n",
       "42745                   200                     2.0  \n",
       "\n",
       "[42746 rows x 7 columns]"
      ]
     },
     "execution_count": 6,
     "metadata": {},
     "output_type": "execute_result"
    }
   ],
   "source": [
    "# Obtain each row of each table and append it in a list \n",
    "rows = []\n",
    "\n",
    "# We convert HTML to text format and each row list of each table \n",
    "# have splited by comma for each element of row belong a column.\n",
    "for t in table:\n",
    "    for i in t.find_all('tr',{'aling': \"center\"}):\n",
    "        rows.append(i.text.replace(\" \",\"\").replace(\"\\n\", \" \").strip().split()) \n",
    "        \n",
    "# Creating a dataframe        \n",
    "senhami = pd.DataFrame(rows[1:], columns = rows[0])\n",
    "\n",
    "# Dropping headers\n",
    "header = []\n",
    "for n in range(len(senhami)):\n",
    "    if senhami.loc[n,].to_list() == senhami.columns.to_list():\n",
    "        header.append(n) \n",
    "senhami = senhami.drop(header,0)\n",
    "senhami.index = range(len(senhami.index))\n",
    "senhami"
   ]
  },
  {
   "cell_type": "code",
   "execution_count": 8,
   "metadata": {},
   "outputs": [],
   "source": [
    "#Saving to .csv file\n",
    "senhami.to_csv('campo_de_marte.csv', index = False)"
   ]
  }
 ],
 "metadata": {
  "kernelspec": {
   "display_name": "Python 3",
   "language": "python",
   "name": "python3"
  },
  "language_info": {
   "codemirror_mode": {
    "name": "ipython",
    "version": 3
   },
   "file_extension": ".py",
   "mimetype": "text/x-python",
   "name": "python",
   "nbconvert_exporter": "python",
   "pygments_lexer": "ipython3",
   "version": "3.6.9"
  }
 },
 "nbformat": 4,
 "nbformat_minor": 4
}
